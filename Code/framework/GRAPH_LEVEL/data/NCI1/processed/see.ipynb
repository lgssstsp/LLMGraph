{
 "cells": [
  {
   "cell_type": "code",
   "execution_count": null,
   "metadata": {},
   "outputs": [],
   "source": []
  },
  {
   "cell_type": "code",
   "execution_count": 16,
   "metadata": {},
   "outputs": [
    {
     "name": "stdout",
     "output_type": "stream",
     "text": [
      "({'x': tensor([[1., 0., 0.,  ..., 0., 0., 0.],\n",
      "        [1., 0., 0.,  ..., 0., 0., 0.],\n",
      "        [1., 0., 0.,  ..., 0., 0., 0.],\n",
      "        ...,\n",
      "        [0., 0., 1.,  ..., 0., 0., 0.],\n",
      "        [0., 0., 1.,  ..., 0., 0., 0.],\n",
      "        [0., 0., 1.,  ..., 0., 0., 0.]]), 'edge_index': tensor([[ 0,  1,  2,  ..., 38, 38, 38],\n",
      "        [ 7,  7,  9,  ...,  5,  7, 36]]), 'y': tensor([0, 0, 0,  ..., 1, 1, 1])}, {'edge_index': tensor([     0,     42,     94,  ..., 265344, 265424, 265506]), 'x': tensor([     0,     21,     45,  ..., 122672, 122708, 122747]), 'y': tensor([   0,    1,    2,  ..., 4108, 4109, 4110])}, {'num_node_attributes': 0, 'num_node_labels': 37, 'num_edge_attributes': 0, 'num_edge_labels': 0})\n"
     ]
    }
   ],
   "source": [
    "import torch\n",
    "# 加载 .pt 文件\n",
    "data = torch.load('data.pt')\n",
    "print(data)\n"
   ]
  },
  {
   "cell_type": "code",
   "execution_count": 17,
   "metadata": {},
   "outputs": [
    {
     "name": "stdout",
     "output_type": "stream",
     "text": [
      "data.shape: 3\n",
      "x.shape: torch.Size([122747, 37])\n",
      "y.shape: torch.Size([4110])\n",
      "edge_index.shape: torch.Size([2, 265506])\n",
      "x.shape: torch.Size([4111])\n",
      "y.shape: torch.Size([4111])\n",
      "edge_index.shape: torch.Size([4111])\n"
     ]
    }
   ],
   "source": [
    "print('data.shape:',len(data))\n",
    "\n",
    "print('x.shape:', data[0]['x'].shape)\n",
    "print('y.shape:', data[0]['y'].shape)\n",
    "print('edge_index.shape:', data[0]['edge_index'].shape)\n",
    "\n",
    "print('x.shape:', data[1]['x'].shape)\n",
    "print('y.shape:', data[1]['y'].shape)\n",
    "print('edge_index.shape:', data[1]['edge_index'].shape)\n",
    "\n",
    "# print('num_node_attributes.shape:', data[2]['num_node_attributes'].shape)\n",
    "# print('num_node_labels.shape:', data[2]['num_node_labels'].shape)\n",
    "# print('num_edge_attributes.shape:', data[2]['num_edge_attributes'].shape)"
   ]
  },
  {
   "cell_type": "code",
   "execution_count": 18,
   "metadata": {},
   "outputs": [
    {
     "name": "stdout",
     "output_type": "stream",
     "text": [
      "None\n"
     ]
    }
   ],
   "source": [
    "\n",
    "# 加载 .pt 文件\n",
    "pre_filter = torch.load('pre_filter.pt')\n",
    "print(pre_filter)\n"
   ]
  },
  {
   "cell_type": "code",
   "execution_count": 19,
   "metadata": {},
   "outputs": [
    {
     "name": "stdout",
     "output_type": "stream",
     "text": [
      "None\n"
     ]
    }
   ],
   "source": [
    "# 加载 .pt 文件\n",
    "pre_transform = torch.load('pre_transform.pt')\n",
    "print(pre_transform)"
   ]
  }
 ],
 "metadata": {
  "kernelspec": {
   "display_name": "py38",
   "language": "python",
   "name": "python3"
  },
  "language_info": {
   "codemirror_mode": {
    "name": "ipython",
    "version": 3
   },
   "file_extension": ".py",
   "mimetype": "text/x-python",
   "name": "python",
   "nbconvert_exporter": "python",
   "pygments_lexer": "ipython3",
   "version": "3.8.16"
  }
 },
 "nbformat": 4,
 "nbformat_minor": 2
}
