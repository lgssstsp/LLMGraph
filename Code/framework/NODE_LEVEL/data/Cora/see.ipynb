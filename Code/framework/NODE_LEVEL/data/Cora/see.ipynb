{
 "cells": [
  {
   "cell_type": "code",
   "execution_count": null,
   "metadata": {},
   "outputs": [],
   "source": []
  },
  {
   "cell_type": "code",
   "execution_count": null,
   "metadata": {},
   "outputs": [],
   "source": [
    "# 1. ind.cora.x\n",
    "# 内容：训练集中节点的特征矩阵。\n",
    "# 作用：用于表示训练集中节点的输入特征。\n",
    "# 格式：\n",
    "# 数据类型：稀疏矩阵（scipy.sparse.csr_matrix）。\n",
    "# 大小：(训练节点数, 特征数)。\n",
    "# 每行表示一个节点，每列是一个特征（通常是基于词袋模型的特征，表示单词是否出现在论文中）。\n",
    "# 示例：如果矩阵是密集的（dense），可能看起来像这样：\n",
    "# plaintext\n",
    "# 复制代码\n",
    "# [[0. 1. 0. ... 0. 0. 0.]\n",
    "#  [0. 0. 1. ... 0. 0. 0.]\n",
    "#  ...]\n",
    "# 2. ind.cora.y\n",
    "# 内容：训练集中节点的标签。\n",
    "# 作用：为训练节点提供类别信息。\n",
    "# 格式：\n",
    "# 数据类型：NumPy数组，大小为 (训练节点数, 类别数)。\n",
    "# 每行是一个one-hot编码的标签，表示该节点所属的类别。\n",
    "# 示例：\n",
    "# plaintext\n",
    "# 复制代码\n",
    "# [[0. 1. 0. 0. 0. 0. 0.]\n",
    "#  [1. 0. 0. 0. 0. 0. 0.]\n",
    "#  ...]\n",
    "# 3. ind.cora.allx\n",
    "# 内容：训练集和验证集所有节点的特征矩阵。\n",
    "# 作用：表示训练集和验证集节点的特征，用于完整训练和验证阶段。\n",
    "# 格式：\n",
    "# 数据类型：稀疏矩阵（scipy.sparse.csr_matrix）。\n",
    "# 大小：(训练+验证节点数, 特征数)。\n",
    "# 说明：包含ind.cora.x中的数据和验证集中节点的特征。\n",
    "# 4. ind.cora.ally\n",
    "# 内容：训练集和验证集中节点的标签。\n",
    "# 作用：为训练集和验证集节点提供类别信息。\n",
    "# 格式：\n",
    "# 数据类型：NumPy数组。\n",
    "# 大小：(训练+验证节点数, 类别数)。\n",
    "# 说明：包含ind.cora.y和验证集的标签。\n",
    "# 5. ind.cora.tx\n",
    "# 内容：测试集中节点的特征矩阵。\n",
    "# 作用：表示测试集中节点的输入特征。\n",
    "# 格式：\n",
    "# 数据类型：稀疏矩阵（scipy.sparse.csr_matrix）。\n",
    "# 大小：(测试节点数, 特征数)。\n",
    "# 说明：只包含测试集中节点的特征。\n",
    "# 6. ind.cora.ty\n",
    "# 内容：测试集中节点的标签。\n",
    "# 作用：为测试集提供类别信息。\n",
    "# 格式：\n",
    "# 数据类型：NumPy数组。\n",
    "# 大小：(测试节点数, 类别数)。\n",
    "# 说明：每一行是测试集中节点的one-hot编码标签。\n",
    "# 7. ind.cora.graph\n",
    "# 内容：图的邻接表。\n",
    "# 作用：描述图的结构。\n",
    "# 格式：\n",
    "# 数据类型：Python字典。\n",
    "# 键：节点的索引。\n",
    "# 值：与该节点相邻的节点的索引列表。\n",
    "# 示例：\n",
    "# python\n",
    "# 复制代码\n",
    "# {0: [633, 1862, 2582], \n",
    "#  1: [2, 652, 654], \n",
    "#  ...}\n",
    "# 8. ind.cora.test.index\n",
    "# 内容：测试集中节点的索引。\n",
    "# 作用：标识测试节点的位置。\n",
    "# 格式：\n",
    "# 数据类型：纯文本文件，每行一个整数。\n",
    "# 示例：\n",
    "# plaintext\n",
    "# 复制代码\n",
    "# 1708\n",
    "# 1709\n",
    "# 1710\n",
    "# ..."
   ]
  },
  {
   "cell_type": "code",
   "execution_count": null,
   "metadata": {},
   "outputs": [],
   "source": [
    "def load_test_index(filename):\n",
    "    with open(filename, 'r') as f:\n",
    "        return [int(line.strip()) for line in f.readlines()]\n",
    "\n",
    "# 加载测试索引\n",
    "test_idx = load_test_index('raw/ind.cora.test.index')\n",
    "\n",
    "# 查看测试索引\n",
    "print(\"Test indices:\", test_idx)\n"
   ]
  },
  {
   "cell_type": "code",
   "execution_count": null,
   "metadata": {},
   "outputs": [],
   "source": [
    "import pickle\n",
    "import scipy.sparse\n",
    "\n",
    "# 定义加载函数\n",
    "def load_pickle_file(filename):\n",
    "    \"\"\"加载pickle文件\"\"\"\n",
    "    with open(filename, 'rb') as f:\n",
    "        return pickle.load(f, encoding='latin1')  # 确保兼容旧版本\n",
    "\n",
    "def load_graph_file(filename):\n",
    "    \"\"\"加载图的邻接信息\"\"\"\n",
    "    with open(filename, 'rb') as f:\n",
    "        return pickle.load(f, encoding='latin1')\n",
    "\n",
    "def load_test_index_file(filename):\n",
    "    \"\"\"加载测试索引文件\"\"\"\n",
    "    with open(filename, 'r') as f:\n",
    "        return [int(line.strip()) for line in f.readlines()]\n",
    "\n",
    "# 加载数据\n",
    "x = load_pickle_file('raw/ind.cora.x')\n",
    "y = load_pickle_file('raw/ind.cora.y')\n",
    "allx = load_pickle_file('raw/ind.cora.allx')\n",
    "ally = load_pickle_file('raw/ind.cora.ally')\n",
    "tx = load_pickle_file('raw/ind.cora.tx')\n",
    "ty = load_pickle_file('raw/ind.cora.ty')\n",
    "graph = load_graph_file('raw/ind.cora.graph')\n",
    "test_idx = load_test_index_file('raw/ind.cora.test.index')\n",
    "\n",
    "# 打印内容\n",
    "print(\"Training features (x):\\n\", x.todense() if isinstance(x, scipy.sparse.csr_matrix) else x)\n",
    "print(\"Training labels (y):\\n\", y)\n",
    "print(\"All features (allx):\\n\", allx.todense() if isinstance(allx, scipy.sparse.csr_matrix) else allx)\n",
    "print(\"All labels (ally):\\n\", ally)\n",
    "print(\"Test features (tx):\\n\", tx.todense() if isinstance(tx, scipy.sparse.csr_matrix) else tx)\n",
    "print(\"Test labels (ty):\\n\", ty)\n",
    "print(\"Graph structure (graph):\\n\", graph)\n",
    "print(\"Test indices (test_idx):\\n\", test_idx)\n"
   ]
  },
  {
   "cell_type": "code",
   "execution_count": null,
   "metadata": {},
   "outputs": [],
   "source": [
    "print(x.todense().shape)"
   ]
  },
  {
   "cell_type": "code",
   "execution_count": null,
   "metadata": {},
   "outputs": [],
   "source": [
    "import numpy as np\n",
    "np.set_printoptions(threshold=np.inf)  # 完全显示数组内容\n",
    "\n",
    "# 再次打印第一个节点特征\n",
    "print(\"First node features:\\n\", x.todense()[0])"
   ]
  },
  {
   "cell_type": "code",
   "execution_count": 14,
   "metadata": {},
   "outputs": [
    {
     "data": {
      "text/plain": [
       "(140, 1433)"
      ]
     },
     "execution_count": 14,
     "metadata": {},
     "output_type": "execute_result"
    }
   ],
   "source": [
    "allx.todense().shape\n",
    "tx.todense().shape\n",
    "x.todense().shape"
   ]
  }
 ],
 "metadata": {
  "kernelspec": {
   "display_name": "profcfsave20200608",
   "language": "python",
   "name": "python3"
  },
  "language_info": {
   "codemirror_mode": {
    "name": "ipython",
    "version": 3
   },
   "file_extension": ".py",
   "mimetype": "text/x-python",
   "name": "python",
   "nbconvert_exporter": "python",
   "pygments_lexer": "ipython3",
   "version": "3.8.16"
  }
 },
 "nbformat": 4,
 "nbformat_minor": 2
}
