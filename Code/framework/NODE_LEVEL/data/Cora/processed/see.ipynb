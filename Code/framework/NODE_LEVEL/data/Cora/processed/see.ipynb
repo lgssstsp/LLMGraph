{
 "cells": [
  {
   "cell_type": "code",
   "execution_count": null,
   "metadata": {},
   "outputs": [],
   "source": []
  },
  {
   "cell_type": "code",
   "execution_count": 1,
   "metadata": {},
   "outputs": [
    {
     "name": "stdout",
     "output_type": "stream",
     "text": [
      "({'x': tensor([[0., 0., 0.,  ..., 0., 0., 0.],\n",
      "        [0., 0., 0.,  ..., 0., 0., 0.],\n",
      "        [0., 0., 0.,  ..., 0., 0., 0.],\n",
      "        ...,\n",
      "        [0., 0., 0.,  ..., 0., 0., 0.],\n",
      "        [0., 0., 0.,  ..., 0., 0., 0.],\n",
      "        [0., 0., 0.,  ..., 0., 0., 0.]]), 'edge_index': tensor([[   0,    0,    0,  ..., 2707, 2707, 2707],\n",
      "        [ 633, 1862, 2582,  ...,  598, 1473, 2706]]), 'y': tensor([3, 4, 4,  ..., 3, 3, 3]), 'train_mask': tensor([ True,  True,  True,  ..., False, False, False]), 'val_mask': tensor([False, False, False,  ..., False, False, False]), 'test_mask': tensor([False, False, False,  ...,  True,  True,  True])}, None)\n"
     ]
    }
   ],
   "source": [
    "import torch\n",
    "# 加载 .pt 文件\n",
    "data = torch.load('data.pt')\n",
    "print(data)\n",
    "\n"
   ]
  },
  {
   "cell_type": "code",
   "execution_count": null,
   "metadata": {},
   "outputs": [],
   "source": [
    "print(data[0])"
   ]
  },
  {
   "cell_type": "code",
   "execution_count": 3,
   "metadata": {},
   "outputs": [
    {
     "data": {
      "text/plain": [
       "tensor([0., 0., 0.,  ..., 0., 0., 0.])"
      ]
     },
     "execution_count": 3,
     "metadata": {},
     "output_type": "execute_result"
    }
   ],
   "source": [
    "data[0]['x'][0]"
   ]
  },
  {
   "cell_type": "code",
   "execution_count": 13,
   "metadata": {},
   "outputs": [
    {
     "name": "stdout",
     "output_type": "stream",
     "text": [
      "x.shape: torch.Size([2708, 1433])\n",
      "y.shape: torch.Size([2708])\n",
      "train_mask.shape: torch.Size([2708])\n",
      "val_mask.shape: torch.Size([2708])\n",
      "test_mask.shape: torch.Size([2708])\n",
      "edge_index.shape: torch.Size([2, 10556])\n"
     ]
    }
   ],
   "source": [
    "\n",
    "print('x.shape:', data[0]['x'].shape)\n",
    "print('y.shape:', data[0]['y'].shape)\n",
    "\n",
    "print('train_mask.shape:', data[0]['train_mask'].shape)\n",
    "print('val_mask.shape:', data[0]['val_mask'].shape)\n",
    "print('test_mask.shape:', data[0]['test_mask'].shape)\n",
    "print('edge_index.shape:', data[0]['edge_index'].shape)\n"
   ]
  },
  {
   "cell_type": "code",
   "execution_count": null,
   "metadata": {},
   "outputs": [
    {
     "name": "stdout",
     "output_type": "stream",
     "text": [
      "None\n"
     ]
    }
   ],
   "source": [
    "\n",
    "# 加载 .pt 文件\n",
    "pre_filter = torch.load('pre_filter.pt')\n",
    "print(pre_filter)\n"
   ]
  },
  {
   "cell_type": "code",
   "execution_count": null,
   "metadata": {},
   "outputs": [
    {
     "name": "stdout",
     "output_type": "stream",
     "text": [
      "None\n"
     ]
    }
   ],
   "source": [
    "# 加载 .pt 文件\n",
    "pre_transform = torch.load('pre_transform.pt')\n",
    "print(pre_transform)"
   ]
  }
 ],
 "metadata": {
  "kernelspec": {
   "display_name": "profcfsave20200608",
   "language": "python",
   "name": "python3"
  },
  "language_info": {
   "codemirror_mode": {
    "name": "ipython",
    "version": 3
   },
   "file_extension": ".py",
   "mimetype": "text/x-python",
   "name": "python",
   "nbconvert_exporter": "python",
   "pygments_lexer": "ipython3",
   "version": "3.8.16"
  }
 },
 "nbformat": 4,
 "nbformat_minor": 2
}
